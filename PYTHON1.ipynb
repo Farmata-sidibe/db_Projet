{
  "nbformat": 4,
  "nbformat_minor": 0,
  "metadata": {
    "colab": {
      "name": "Untitled0.ipynb",
      "provenance": [],
      "authorship_tag": "ABX9TyNRjQ8M2sNI6yy4B+U4LC7l",
      "include_colab_link": true
    },
    "kernelspec": {
      "name": "python3",
      "display_name": "Python 3"
    },
    "language_info": {
      "name": "python"
    }
  },
  "cells": [
    {
      "cell_type": "markdown",
      "metadata": {
        "id": "view-in-github",
        "colab_type": "text"
      },
      "source": [
        "<a href=\"https://colab.research.google.com/github/Farmata-sidibe/db_Projet/blob/master/PYTHON1.ipynb\" target=\"_parent\"><img src=\"https://colab.research.google.com/assets/colab-badge.svg\" alt=\"Open In Colab\"/></a>"
      ]
    },
    {
      "cell_type": "code",
      "metadata": {
        "id": "BOZyidNkapka"
      },
      "source": [
        ""
      ],
      "execution_count": null,
      "outputs": []
    },
    {
      "cell_type": "markdown",
      "metadata": {
        "id": "hzNP2JJQeQlt"
      },
      "source": [
        ""
      ]
    },
    {
      "cell_type": "code",
      "metadata": {
        "colab": {
          "base_uri": "https://localhost:8080/"
        },
        "id": "YYVuDeBIeSAM",
        "outputId": "61b347ad-0ab3-41ee-c989-555bbf9f4a6f"
      },
      "source": [
        "age = 31\n",
        "age = 31 + 1\n",
        "age = 32 - 1\n",
        "age = 5 * 6\n",
        "age = 5 / 2\n",
        "newage = age + 1\n",
        "\n",
        "print (newage)"
      ],
      "execution_count": 3,
      "outputs": [
        {
          "output_type": "stream",
          "name": "stdout",
          "text": [
            "3.5\n"
          ]
        }
      ]
    },
    {
      "cell_type": "code",
      "metadata": {
        "colab": {
          "base_uri": "https://localhost:8080/"
        },
        "id": "PQeBCuTAirEV",
        "outputId": "e16178d4-7a4a-4f72-bbe4-ac34aad8366a"
      },
      "source": [
        "age = int(input(),)\n",
        "age = age + 1\n",
        "print (age)"
      ],
      "execution_count": 6,
      "outputs": [
        {
          "output_type": "stream",
          "name": "stdout",
          "text": [
            "31\n",
            "32\n"
          ]
        }
      ]
    },
    {
      "cell_type": "code",
      "metadata": {
        "colab": {
          "base_uri": "https://localhost:8080/"
        },
        "id": "oIs4tUz-jsv8",
        "outputId": "ebf63de5-c0f0-440b-ebdb-93d76868e314"
      },
      "source": [
        "F = 1.999999\n",
        "\n",
        "f = int(F)\n",
        "print(f)"
      ],
      "execution_count": 8,
      "outputs": [
        {
          "output_type": "stream",
          "name": "stdout",
          "text": [
            "1\n"
          ]
        }
      ]
    },
    {
      "cell_type": "code",
      "metadata": {
        "colab": {
          "base_uri": "https://localhost:8080/"
        },
        "id": "LYpOUofGoCxG",
        "outputId": "7539eae2-7ad6-4361-9394-ab6750106156"
      },
      "source": [
        "C = int(input(),)\n",
        "carreDeC = C * C\n",
        "print(carreDeC)\n"
      ],
      "execution_count": 33,
      "outputs": [
        {
          "output_type": "stream",
          "name": "stdout",
          "text": [
            "4\n",
            "16\n"
          ]
        }
      ]
    },
    {
      "cell_type": "code",
      "metadata": {
        "colab": {
          "base_uri": "https://localhost:8080/"
        },
        "id": "Kyw0sqBBzmHJ",
        "outputId": "0f3a8e8d-b691-41c0-af9f-b0d19e374513"
      },
      "source": [
        "print(int(input())**2)"
      ],
      "execution_count": 34,
      "outputs": [
        {
          "output_type": "stream",
          "name": "stdout",
          "text": [
            "3\n",
            "9\n"
          ]
        }
      ]
    },
    {
      "cell_type": "code",
      "metadata": {
        "colab": {
          "base_uri": "https://localhost:8080/"
        },
        "id": "ioxjcmMTo0Tq",
        "outputId": "25d75ddb-42a1-49f1-ecdd-64364ad04d50"
      },
      "source": [
        "A = 10\n",
        "B = 2\n",
        "\n",
        "change = A\n",
        "A = B\n",
        "B = change\n",
        "print(A)\n",
        "print(B)"
      ],
      "execution_count": 24,
      "outputs": [
        {
          "output_type": "stream",
          "name": "stdout",
          "text": [
            "2\n",
            "10\n"
          ]
        }
      ]
    },
    {
      "cell_type": "code",
      "metadata": {
        "colab": {
          "base_uri": "https://localhost:8080/"
        },
        "id": "jy9bBWXxsAz5",
        "outputId": "fd366700-8d38-4527-a7a9-98f8afc16f94"
      },
      "source": [
        "import math\n",
        "\n",
        "Rayon = float(input())\n",
        "perimetre = Rayon * 2 * math.pi\n",
        "print(perimetre)"
      ],
      "execution_count": 39,
      "outputs": [
        {
          "output_type": "stream",
          "name": "stdout",
          "text": [
            "5.5\n",
            "34.55751918948772\n"
          ]
        }
      ]
    },
    {
      "cell_type": "code",
      "metadata": {
        "colab": {
          "base_uri": "https://localhost:8080/"
        },
        "id": "QX0D4v4_som7",
        "outputId": "199333ca-b737-41e3-9514-1bd826e10d03"
      },
      "source": [
        "note1 = float(input())\n",
        "note2 = float(input())\n",
        "note3 = float(input())\n",
        "note4 = float(input())\n",
        "moyenne = (note1 + note2 + note3 + note4) / 4\n",
        "print(moyenne)"
      ],
      "execution_count": 41,
      "outputs": [
        {
          "output_type": "stream",
          "name": "stdout",
          "text": [
            "12\n",
            "13\n",
            "14.5\n",
            "13\n",
            "13.125\n"
          ]
        }
      ]
    },
    {
      "cell_type": "code",
      "metadata": {
        "colab": {
          "base_uri": "https://localhost:8080/"
        },
        "id": "XVxr3J01vyZZ",
        "outputId": "feea1203-b881-4bdb-d90b-7d47ce38a1e9"
      },
      "source": [
        "A = \"papa\"\n",
        "B = \"mama\"\n",
        "C = \"fils\"\n",
        "inverse = A\n",
        "A = B\n",
        "B = inverse\n",
        "new = C\n",
        "C = A\n",
        "A = new\n",
        "\n",
        "print(A)\n",
        "print(B)\n",
        "print(C)\n",
        "\n"
      ],
      "execution_count": 29,
      "outputs": [
        {
          "output_type": "stream",
          "name": "stdout",
          "text": [
            "fils\n",
            "papa\n",
            "mama\n"
          ]
        }
      ]
    },
    {
      "cell_type": "code",
      "metadata": {
        "colab": {
          "base_uri": "https://localhost:8080/"
        },
        "id": "ASBlAwp-5bNf",
        "outputId": "98c03ec5-0e2a-4a61-f284-c7b36411c116"
      },
      "source": [
        "10%3"
      ],
      "execution_count": 45,
      "outputs": [
        {
          "output_type": "execute_result",
          "data": {
            "text/plain": [
              "1"
            ]
          },
          "metadata": {},
          "execution_count": 45
        }
      ]
    },
    {
      "cell_type": "code",
      "metadata": {
        "colab": {
          "base_uri": "https://localhost:8080/"
        },
        "id": "qAdd3o6y9TLV",
        "outputId": "9371346a-8f88-407f-a3af-3ad3e93b8f2d"
      },
      "source": [
        "\"\"\"10000 sec \n",
        "-> 2h 44min 40s \"\"\"\n",
        "seconde = 10000\n",
        "heure = seconde//3600\n",
        "minute = (seconde%3600)//60\n",
        "Seconde = seconde%60\n",
        "print(heure,\"h\")"
      ],
      "execution_count": 56,
      "outputs": [
        {
          "output_type": "stream",
          "name": "stdout",
          "text": [
            "2\n",
            "46\n",
            "10000\n"
          ]
        }
      ]
    }
  ]
}